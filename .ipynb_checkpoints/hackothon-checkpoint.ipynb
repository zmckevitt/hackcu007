{
 "cells": [
  {
   "cell_type": "code",
   "execution_count": 2,
   "metadata": {},
   "outputs": [],
   "source": [
    "import spotipy\n",
    "import spotipy.util as util"
   ]
  },
  {
   "cell_type": "code",
   "execution_count": 3,
   "metadata": {},
   "outputs": [],
   "source": [
    "# username = '1p0rnq5rk02ilubkadtdjea4x'\n",
    "# client_id ='7e9f9c2e77b64e66a6c20b5b3eb7b479'\n",
    "# client_secret = 'c4bb8e27f686455182b644fb10b61d6e'\n",
    "# redirect_uri = 'http://localhost:7777/callback'\n",
    "# scope = 'user-top-read'\n",
    "\n",
    "# token = util.prompt_for_user_token(username=username, scope=scope,client_id=client_id, client_secret=client_secret, \n",
    "#                                    redirect_uri=redirect_uri)"
   ]
  },
  {
   "cell_type": "code",
   "execution_count": 4,
   "metadata": {},
   "outputs": [],
   "source": [
    "# sp = spotipy.Spotify(auth=token)\n",
    "# top_tracks = sp.current_user_top_tracks(limit=50, offset=0, time_range='medium_term')\n",
    "# features=sp.audio_features(top_tracks['items'][0]['id'])\n",
    "# artist_ID=top_tracks['items'][0]['artists'][0]['id']\n",
    "# artist=sp.artist(artist_ID)\n",
    "# genres=artist['genres']"
   ]
  },
  {
   "cell_type": "code",
   "execution_count": 5,
   "metadata": {},
   "outputs": [],
   "source": [
    "# print(len(top_tracks['items']))\n",
    "# count=0\n",
    "# ret_features=[]\n",
    "# for i in features[0]:\n",
    "#     ret_features.append((i,features[0][i]))\n",
    "#     count+=1\n",
    "#     if(count>10):\n",
    "#         break\n",
    "# print(ret_features)\n",
    "# song_name=top_tracks['items'][0]['name']\n",
    "# artist_name=top_tracks['items'][0]['artists'][0]['name']\n",
    "# time_ms=top_tracks['items'][0]['duration_ms']"
   ]
  },
  {
   "cell_type": "code",
   "execution_count": 3,
   "metadata": {},
   "outputs": [
    {
     "name": "stdout",
     "output_type": "stream",
     "text": [
      "Box of Rain - 2013 Remaster\n"
     ]
    }
   ],
   "source": [
    "# p=util.prompt_for_user_token(username='31exjzvo2nlf4xdgeffjq3ndafwq', scope='user-top-read',client_id='7e9f9c2e77b64e66a6c20b5b3eb7b479', client_secret='c4bb8e27f686455182b644fb10b61d6e', \n",
    "#                                        redirect_uri='http://localhost:7777/callback')\n",
    "# sp = spotipy.Spotify(auth=p)\n",
    "# top_tracks = sp.current_user_top_tracks(limit=20, offset=0, time_range='medium_term')\n",
    "# print(top_tracks['items'][0]['name'])"
   ]
  },
  {
   "cell_type": "code",
   "execution_count": 5,
   "metadata": {},
   "outputs": [
    {
     "name": "stdout",
     "output_type": "stream",
     "text": [
      "Bach Vision Test\n"
     ]
    },
    {
     "data": {
      "text/plain": [
       "0"
      ]
     },
     "execution_count": 5,
     "metadata": {},
     "output_type": "execute_result"
    }
   ],
   "source": [
    "def func(user,time_range):\n",
    "    username='zackagawea10'\n",
    "    client_id='7e9f9c2e77b64e66a6c20b5b3eb7b479'\n",
    "    client_secret='c4bb8e27f686455182b644fb10b61d6e'\n",
    "    ret=[]\n",
    "    redirect_uri = 'http://localhost:7777/callback'\n",
    "    scope = 'user-top-read'\n",
    "    token = util.prompt_for_user_token(username=username, scope=scope,client_id=client_id,\n",
    "                                       client_secret=client_secret, \n",
    "                                       redirect_uri=redirect_uri)\n",
    "    sp = spotipy.Spotify(auth=token)\n",
    "    top_tracks = sp.current_user_top_tracks(limit=20, offset=0, time_range=time_range)\n",
    "    print(top_tracks['items'][0]['name'])\n",
    "    return 0\n",
    "#     for i in range (len(top_tracks['items'])):\n",
    "#         count=0\n",
    "#         ret_features=[]\n",
    "#         features=sp.audio_features(top_tracks['items'][i]['id'])\n",
    "#         artist_ID=top_tracks['items'][i]['artists'][0]['id']\n",
    "#         artist=sp.artist(artist_ID)\n",
    "#         genres=artist['genres']\n",
    "#         for j in features[0]:\n",
    "#             ret_features.append((j,features[0][j]))\n",
    "#             count+=1\n",
    "#             if(count>10):\n",
    "#                 break\n",
    "#         song_name=top_tracks['items'][i]['name']\n",
    "#         artist_name=top_tracks['items'][i]['artists'][0]['name']\n",
    "#         time_ms=top_tracks['items'][i]['duration_ms']/60000\n",
    "#         ret.append((song_name,artist_name,time_ms,genres,ret_features))\n",
    "#     top_G=[]\n",
    "#     num=[]\n",
    "#     for i in range(len(ret)):\n",
    "#         for j in range(len(ret[i][3])) :\n",
    "#             if(ret[i][3][j] in top_G):\n",
    "#                 num[j]+=1\n",
    "#             else:\n",
    "#                 top_G.append(ret[i][3][j])\n",
    "#                 num.append(1)\n",
    "#     max_value = max(num)\n",
    "#     max_index = num.index(max_value)\n",
    "#     print(top_G[max_index])\n",
    "#     return ret\n",
    "func('a','medium_term')"
   ]
  },
  {
   "cell_type": "code",
   "execution_count": null,
   "metadata": {},
   "outputs": [],
   "source": []
  }
 ],
 "metadata": {
  "kernelspec": {
   "display_name": "Python 3",
   "language": "python",
   "name": "python3"
  },
  "language_info": {
   "codemirror_mode": {
    "name": "ipython",
    "version": 3
   },
   "file_extension": ".py",
   "mimetype": "text/x-python",
   "name": "python",
   "nbconvert_exporter": "python",
   "pygments_lexer": "ipython3",
   "version": "3.7.4"
  }
 },
 "nbformat": 4,
 "nbformat_minor": 4
}
